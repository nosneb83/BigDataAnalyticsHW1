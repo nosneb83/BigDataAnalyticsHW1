{
 "cells": [
  {
   "cell_type": "code",
   "execution_count": 1,
   "metadata": {
    "collapsed": false
   },
   "outputs": [
    {
     "name": "stdout",
     "output_type": "stream",
     "text": [
      "Feature ranking (most important):\n",
      "1. section_names_header (0.013411)\n",
      "2. ent_q_diffs_var (0.011097)\n",
      "3. ent_p_8 (0.008002)\n",
      "4. ent_q_diff_diffs_2_min (0.007035)\n",
      "5. Img4 (0.006078)\n"
     ]
    },
    {
     "data": {
      "image/png": "[encoded data removed]",
      "text/plain": [
       "<matplotlib.figure.Figure at 0x7fe004bf2ed0>"
      ]
     },
     "metadata": {},
     "output_type": "display_data"
    },
    {
     "name": "stdout",
     "output_type": "stream",
     "text": [
      "Feature ranking (least important):\n",
      "1. *invalid* (0.0)\n",
      "2. __vbaRecUniToAnsi (0.0)\n",
      "3. misc_market (0.0)\n",
      "4. PCCTL_CONTEXT (0.0)\n",
      "5. GetFileTitleA (0.0)\n"
     ]
    }
   ],
   "source": [
    "import numpy as np\n",
    "import pandas as pd\n",
    "import matplotlib.pyplot as plt\n",
    "from sklearn.ensemble import ExtraTreesClassifier\n",
    "\n",
    "# Read data\n",
    "data = pd.read_csv(\"LargeTrain.csv\")\n",
    "\n",
    "X = np.array(data.ix[:,0:1804])\n",
    "y = np.array(data.ix[:,1804:1805]).ravel()\n",
    "\n",
    "# Calculate feature importances\n",
    "forest = ExtraTreesClassifier(n_estimators=250, random_state=0)\n",
    "forest = forest.fit(X,y)\n",
    "\n",
    "featureNames = data.columns\n",
    "importances = forest.feature_importances_\n",
    "std = np.std([tree.feature_importances_ for tree in forest.estimators_], axis=0)\n",
    "\n",
    "indices = np.argsort(importances)[::-1]\n",
    "\n",
    "# Print (most important)\n",
    "plotNum = 5\n",
    "print(\"Feature ranking (most important):\")\n",
    "for i in range(plotNum):\n",
    "    print(\"{0}. {1} ({2})\".format(i + 1, featureNames[indices[i]], round(importances[indices[i]], 6)))\n",
    "\n",
    "# Plot\n",
    "plt.figure()\n",
    "plt.title(\"Feature importances\")\n",
    "plt.bar(range(plotNum), importances[indices[0:plotNum]], color=\"r\", align=\"center\")\n",
    "plt.show()\n",
    "    \n",
    "# Print (least important)\n",
    "print(\"Feature ranking (least important):\")\n",
    "indices = indices[::-1]\n",
    "for i in range(plotNum):\n",
    "    print(\"{0}. {1} ({2})\".format(i + 1, featureNames[indices[i]], round(importances[indices[i]], 6)))"
   ]
  },
  {
   "cell_type": "code",
   "execution_count": null,
   "metadata": {
    "collapsed": true
   },
   "outputs": [],
   "source": []
  }
 ],
 "metadata": {
  "kernelspec": {
   "display_name": "Python 2",
   "language": "python",
   "name": "python2"
  },
  "language_info": {
   "codemirror_mode": {
    "name": "ipython",
    "version": 2
   },
   "file_extension": ".py",
   "mimetype": "text/x-python",
   "name": "python",
   "nbconvert_exporter": "python",
   "pygments_lexer": "ipython2",
   "version": "2.7.13"
  }
 },
 "nbformat": 4,
 "nbformat_minor": 2
}
